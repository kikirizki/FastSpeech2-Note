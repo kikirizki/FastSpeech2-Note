{
  "nbformat": 4,
  "nbformat_minor": 0,
  "metadata": {
    "colab": {
      "name": "FastSpeeh2-Note.ipynb",
      "provenance": []
    },
    "kernelspec": {
      "name": "python3",
      "display_name": "Python 3"
    },
    "language_info": {
      "name": "python"
    }
  },
  "cells": [
    {
      "cell_type": "markdown",
      "metadata": {
        "id": "Kyt67fIKfBvi"
      },
      "source": [
        "## FastSpeech2 Overview\n",
        "\n",
        "FastSpeech is non-autoregressive model for speech syntesize FastSpeech2 simplfy some of complicated procedure tot train FastSpeech\n"
      ]
    },
    {
      "cell_type": "code",
      "metadata": {
        "id": "qnZFDdwIfCP9"
      },
      "source": [
        ""
      ],
      "execution_count": null,
      "outputs": []
    }
  ]
}